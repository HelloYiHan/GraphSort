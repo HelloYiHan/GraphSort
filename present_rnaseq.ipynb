{
 "cells": [
  {
   "cell_type": "markdown",
   "metadata": {},
   "source": [
    "<a href=\"https://colab.research.google.com/github/HelloYiHan/GraphSort/blob/master/present_rnaseq.ipynb\" target=\"_parent\"><img src=\"https://colab.research.google.com/assets/colab-badge.svg\" alt=\"Open In Colab\"/></a>"
   ]
  },
  {
   "cell_type": "code",
   "execution_count": null,
   "metadata": {},
   "outputs": [],
   "source": [
    "!pip install torch==1.2.0 torchvision==0.4.0\n",
    "!pip install torch-scatter==1.3.1\n",
    "!pip install torch-sparse==0.4.0\n",
    "!pip install torch-cluster==1.4.4\n",
    "!pip install torch-spline-conv==1.1.0\n",
    "!pip install torch-geometric==1.3.2\n",
    "!sudo apt-get install git-lfs\n",
    "!git lfs install"
   ]
  },
  {
   "cell_type": "code",
   "execution_count": null,
   "metadata": {},
   "outputs": [],
   "source": [
    "!git clone https://github.com/HelloYiHan/GraphSort"
   ]
  },
  {
   "cell_type": "code",
   "execution_count": null,
   "metadata": {},
   "outputs": [],
   "source": [
    "import os\n",
    "os.chdir('GraphSort')\n",
    "import torch\n",
    "import graphsort\n",
    "import graphsort_test\n",
    "import os.path as osp\n",
    "import read_dataset\n",
    "import torch_geometric.data"
   ]
  },
  {
   "cell_type": "code",
   "execution_count": null,
   "metadata": {},
   "outputs": [],
   "source": [
    "device = torch.device('cuda:0' if torch.cuda.is_available() else 'cpu')"
   ]
  },
  {
   "cell_type": "code",
   "execution_count": null,
   "metadata": {},
   "outputs": [],
   "source": [
    "gse107011 = read_dataset.two_dim_data(zippath='/content/GraphSort/datasets/rnaseq107011.zip',root=osp.join('/content', 'data', 'rnaseq107011'),name='rnaseq107011',use_node_attr=True)\n",
    "gse107011 = gse107011[2000:]"
   ]
  },
  {
   "cell_type": "code",
   "execution_count": null,
   "metadata": {},
   "outputs": [],
   "source": [
    "model = graphsort.Net(num_features = 1, y_size = 7).to(device)\n",
    "if device == \"cuda:0\":\n",
    "    model.load_state_dict(torch.load('/content/GraphSort/trained_models/RnaSeq107011.pkl',map_location='cuda:0'))\n",
    "else:\n",
    "    model.load_state_dict(torch.load('/content/GraphSort/trained_models/RnaSeq107011.pkl',map_location='cpu'))"
   ]
  },
  {
   "cell_type": "code",
   "execution_count": null,
   "metadata": {},
   "outputs": [],
   "source": [
    "loader_gse107011 = torch_geometric.data.DataLoader(gse107011, batch_size=100)"
   ]
  },
  {
   "cell_type": "code",
   "execution_count": null,
   "metadata": {},
   "outputs": [],
   "source": [
    "cor_gse107011 = graphsort_test.test_rna_seq(model, loader_gse107011, device)"
   ]
  },
  {
   "cell_type": "code",
   "execution_count": null,
   "metadata": {},
   "outputs": [],
   "source": [
    "print('The average Pearson correlation coefficient of estimated and flow cytometry cell abundance among samples in GSE107011 is: {:.5f}'.format(cor_gse107011))"
   ]
  },
  {
   "cell_type": "code",
   "execution_count": null,
   "metadata": {},
   "outputs": [],
   "source": [
    "for data in loader_gse107011:\n",
    "    data = data.to(device)\n",
    "    prediction_gse107011 = model(data)\n",
    "    print(prediction_gse107011.cpu().detach().numpy())"
   ]
  },
  {
   "cell_type": "code",
   "execution_count": null,
   "metadata": {},
   "outputs": [],
   "source": [
    "sdy67 = read_dataset.two_dim_data(zippath='/content/GraphSort/datasets/rnaseqsdy67.zip',root=osp.join('/content', 'data', 'rnaseqsdy67'),name='rnaseqsdy67',use_node_attr=True)\n",
    "sdy67 = sdy67[2000:]"
   ]
  },
  {
   "cell_type": "code",
   "execution_count": null,
   "metadata": {},
   "outputs": [],
   "source": [
    "model = graphsort.Net(num_features = 1, y_size = 7).to(device)\n",
    "if device == \"cuda:0\":\n",
    "    model.load_state_dict(torch.load('/content/GraphSort/trained_models/RnaSeqsdy67.pkl',map_location='cuda:0'))\n",
    "else:\n",
    "    model.load_state_dict(torch.load('/content/GraphSort/trained_models/RnaSeqsdy67.pkl',map_location='cpu'))"
   ]
  },
  {
   "cell_type": "code",
   "execution_count": null,
   "metadata": {},
   "outputs": [],
   "source": [
    "loader_sdy67 = torch_geometric.data.DataLoader(sdy67, batch_size=100)"
   ]
  },
  {
   "cell_type": "code",
   "execution_count": null,
   "metadata": {},
   "outputs": [],
   "source": [
    "cor_sdy67 = graphsort_test.test_rna_seq(model, loader_sdy67, device)"
   ]
  },
  {
   "cell_type": "code",
   "execution_count": null,
   "metadata": {},
   "outputs": [],
   "source": [
    "print('The average Pearson correlation coefficient of estimated and flow cytometry cell abundance among samples in SDY67 is: {:.5f}'.format(cor_sdy67))"
   ]
  },
  {
   "cell_type": "code",
   "execution_count": null,
   "metadata": {},
   "outputs": [],
   "source": [
    "for data in loader_sdy67:\n",
    "    data = data.to(device)\n",
    "    prediction_sdy67 = model(data)\n",
    "    print(prediction_sdy67.cpu().detach().numpy())"
   ]
  }
 ],
 "metadata": {
  "kernelspec": {
   "display_name": "Python 3",
   "language": "python",
   "name": "python3"
  },
  "language_info": {
   "codemirror_mode": {
    "name": "ipython",
    "version": 3
   },
   "file_extension": ".py",
   "mimetype": "text/x-python",
   "name": "python",
   "nbconvert_exporter": "python",
   "pygments_lexer": "ipython3",
   "version": "3.6.9"
  }
 },
 "nbformat": 4,
 "nbformat_minor": 4
}
