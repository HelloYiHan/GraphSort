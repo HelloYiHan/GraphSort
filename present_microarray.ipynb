{
 "cells": [
  {
   "cell_type": "markdown",
   "metadata": {},
   "source": [
    "<a href=\"https://colab.research.google.com/github/HelloYiHan/GraphSort/blob/master/present_microarray.ipynb\" target=\"_parent\"><img src=\"https://colab.research.google.com/assets/colab-badge.svg\" alt=\"Open In Colab\"/></a>"
   ]
  },
  {
   "cell_type": "code",
   "execution_count": null,
   "metadata": {},
   "outputs": [],
   "source": [
    "!pip install torch==1.2.0 torchvision==0.4.0\n",
    "!pip install torch-scatter==1.3.1\n",
    "!pip install torch-sparse==0.4.0\n",
    "!pip install torch-cluster==1.4.4\n",
    "!pip install torch-spline-conv==1.1.0\n",
    "!pip install torch-geometric==1.3.2\n",
    "!sudo apt-get install git-lfs\n",
    "!git lfs install"
   ]
  },
  {
   "cell_type": "code",
   "execution_count": null,
   "metadata": {},
   "outputs": [],
   "source": [
    "!git clone https://github.com/HelloYiHan/GraphSort"
   ]
  },
  {
   "cell_type": "code",
   "execution_count": null,
   "metadata": {},
   "outputs": [],
   "source": [
    "import os\n",
    "os.chdir('GraphSort')\n",
    "import torch\n",
    "import graphsort\n",
    "import graphsort_test\n",
    "import os.path as osp\n",
    "import read_dataset\n",
    "import torch_geometric.data"
   ]
  },
  {
   "cell_type": "code",
   "execution_count": null,
   "metadata": {},
   "outputs": [],
   "source": [
    "device = torch.device('cuda:0' if torch.cuda.is_available() else 'cpu')"
   ]
  },
  {
   "cell_type": "code",
   "execution_count": null,
   "metadata": {},
   "outputs": [],
   "source": [
    "gse65133 = read_dataset.two_dim_data(zippath='/content/GraphSort/datasets/microarray65133.zip',root=osp.join('/content', 'data', 'microarray65133'),name='microarray65133',use_node_attr=True)"
   ]
  },
  {
   "cell_type": "code",
   "execution_count": null,
   "metadata": {},
   "outputs": [],
   "source": [
    "model = graphsort.Net(num_features = 1, y_size = 10).to(device)\n",
    "if device == \"cuda:0\":\n",
    "    model.load_state_dict(torch.load('/content/GraphSort/trained_models/Microarray65133.pkl',map_location='cuda:0'))\n",
    "else:\n",
    "    model.load_state_dict(torch.load('/content/GraphSort/trained_models/Microarray65133.pkl',map_location='cpu'))"
   ]
  },
  {
   "cell_type": "code",
   "execution_count": null,
   "metadata": {},
   "outputs": [],
   "source": [
    "loader_gse65133 = torch_geometric.data.DataLoader(gse65133, batch_size=100)"
   ]
  },
  {
   "cell_type": "code",
   "execution_count": null,
   "metadata": {},
   "outputs": [],
   "source": [
    "cor_gse65133 = graphsort_test.test_gse65133(model, loader_gse65133, device)"
   ]
  },
  {
   "cell_type": "code",
   "execution_count": null,
   "metadata": {},
   "outputs": [],
   "source": [
    "print('The average Pearson correlation coefficient of estimated and flow cytometry cell abundance among samples in GSE65133 is: {:.5f}'.format(cor_gse65133))"
   ]
  },
  {
   "cell_type": "code",
   "execution_count": null,
   "metadata": {},
   "outputs": [],
   "source": [
    "for data in loader_gse65133:\n",
    "    data = data.to(device)\n",
    "    prediction_gse65133 = model(data)\n",
    "    print(prediction_gse65133.cpu().detach().numpy())"
   ]
  },
  {
   "cell_type": "code",
   "execution_count": null,
   "metadata": {},
   "outputs": [],
   "source": [
    "gse106898 = read_dataset.two_dim_data(zippath='/content/GraphSort/datasets/microarray106898.zip',root=osp.join('/content', 'data', 'microarray106898'),name='microarray106898',use_node_attr=True)"
   ]
  },
  {
   "cell_type": "code",
   "execution_count": null,
   "metadata": {},
   "outputs": [],
   "source": [
    "model = graphsort.Net(num_features = 1, y_size = 10).to(device)\n",
    "if device == \"cuda:0\":\n",
    "    model.load_state_dict(torch.load('/content/GraphSort/trained_models/Microarray106898.pkl',map_location='cuda:0'))\n",
    "else:\n",
    "    model.load_state_dict(torch.load('/content/GraphSort/trained_models/Microarray106898.pkl',map_location='cpu'))"
   ]
  },
  {
   "cell_type": "code",
   "execution_count": null,
   "metadata": {},
   "outputs": [],
   "source": [
    "loader_gse106898 = torch_geometric.data.DataLoader(gse106898, batch_size=100)"
   ]
  },
  {
   "cell_type": "code",
   "execution_count": null,
   "metadata": {},
   "outputs": [],
   "source": [
    "cor_gse106898 = graphsort_test.test_gse106898(model, loader_gse106898, device)"
   ]
  },
  {
   "cell_type": "code",
   "execution_count": null,
   "metadata": {},
   "outputs": [],
   "source": [
    "print('The average Pearson correlation coefficient of estimated and flow cytometry cell abundance among samples in GSE106898 is: {:.5f}'.format(cor_gse106898))"
   ]
  },
  {
   "cell_type": "code",
   "execution_count": null,
   "metadata": {},
   "outputs": [],
   "source": [
    "for data in loader_gse106898:\n",
    "    data = data.to(device)\n",
    "    prediction_gse106898 = model(data)\n",
    "    print(prediction_gse65133.cpu().detach().numpy())"
   ]
  }
 ],
 "metadata": {
  "kernelspec": {
   "display_name": "Python 3",
   "language": "python",
   "name": "python3"
  },
  "language_info": {
   "codemirror_mode": {
    "name": "ipython",
    "version": 3
   },
   "file_extension": ".py",
   "mimetype": "text/x-python",
   "name": "python",
   "nbconvert_exporter": "python",
   "pygments_lexer": "ipython3",
   "version": "3.6.9"
  }
 },
 "nbformat": 4,
 "nbformat_minor": 4
}
